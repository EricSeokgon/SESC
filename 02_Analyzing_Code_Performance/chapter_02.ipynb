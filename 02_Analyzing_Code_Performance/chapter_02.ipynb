{
 "cells": [
  {
   "cell_type": "markdown",
   "metadata": {},
   "source": [
    "# Analyzing Code Performance"
   ]
  },
  {
   "cell_type": "markdown",
   "metadata": {},
   "source": [
    "### Timing Your Code"
   ]
  },
  {
   "cell_type": "code",
   "execution_count": 3,
   "metadata": {},
   "outputs": [],
   "source": [
    "def slow_way_to_calculate_mode(list_of_numbers):\n",
    "    result_dict = {}\n",
    "    for i in list_of_numbers:\n",
    "        if i not in result_dict:\n",
    "            result_dict[i] = 1\n",
    "        else:\n",
    "            result_dict[i] += 1\n",
    "\n",
    "    mode_vals = []\n",
    "    max_frequency = max(result_dict.values())\n",
    "    for key, value in result_dict.items():\n",
    "        if value == max_frequency:\n",
    "            mode_vals.append(key)\n",
    "\n",
    "    return mode_vals"
   ]
  },
  {
   "cell_type": "code",
   "execution_count": 4,
   "metadata": {},
   "outputs": [
    {
     "data": {
      "text/plain": [
       "[5]"
      ]
     },
     "execution_count": 4,
     "metadata": {},
     "output_type": "execute_result"
    }
   ],
   "source": [
    "slow_way_to_calculate_mode([4, 5, 5, 6])"
   ]
  },
  {
   "cell_type": "code",
   "execution_count": 5,
   "metadata": {},
   "outputs": [
    {
     "ename": "ModuleNotFoundError",
     "evalue": "No module named 'numpy'",
     "output_type": "error",
     "traceback": [
      "\u001b[1;31m---------------------------------------------------------------------------\u001b[0m",
      "\u001b[1;31mModuleNotFoundError\u001b[0m                       Traceback (most recent call last)",
      "Cell \u001b[1;32mIn[5], line 1\u001b[0m\n\u001b[1;32m----> 1\u001b[0m \u001b[38;5;28;01mimport\u001b[39;00m \u001b[38;5;21;01mnumpy\u001b[39;00m \u001b[38;5;28;01mas\u001b[39;00m \u001b[38;5;21;01mnp\u001b[39;00m\n\u001b[0;32m      3\u001b[0m random_integers \u001b[38;5;241m=\u001b[39m np\u001b[38;5;241m.\u001b[39mrandom\u001b[38;5;241m.\u001b[39mrandint(\u001b[38;5;241m1\u001b[39m, \u001b[38;5;241m1_000_000\u001b[39m, \u001b[38;5;241m1_000_000\u001b[39m)\n",
      "\u001b[1;31mModuleNotFoundError\u001b[0m: No module named 'numpy'"
     ]
    }
   ],
   "source": [
    "import numpy as np\n",
    "\n",
    "random_integers = np.random.randint(1, 1_000_000, 1_000_000)"
   ]
  },
  {
   "cell_type": "code",
   "execution_count": null,
   "metadata": {},
   "outputs": [],
   "source": [
    "import time\n",
    "\n",
    "start = time.time()\n",
    "slow_way_to_calculate_mode(random_integers)\n",
    "end = time.time()\n",
    "\n",
    "print(end - start)"
   ]
  },
  {
   "cell_type": "code",
   "execution_count": null,
   "metadata": {},
   "outputs": [],
   "source": [
    "%%timeit\n",
    "slow_way_to_calculate_mode(random_integers)"
   ]
  },
  {
   "cell_type": "markdown",
   "metadata": {},
   "source": [
    "## Profiling Your Code\n",
    "\n",
    "### `cProfile`"
   ]
  },
  {
   "cell_type": "code",
   "execution_count": null,
   "metadata": {},
   "outputs": [],
   "source": [
    "from collections import Counter\n",
    "import numpy as np"
   ]
  },
  {
   "cell_type": "code",
   "execution_count": null,
   "metadata": {},
   "outputs": [],
   "source": [
    "def mode_using_counter(n_integers):\n",
    "    random_integers = np.random.randint(1, 100000, n_integers)\n",
    "    c = Counter(random_integers)\n",
    "    return c.most_common(1)[0][0]"
   ]
  },
  {
   "cell_type": "code",
   "execution_count": null,
   "metadata": {},
   "outputs": [],
   "source": [
    "mode_using_counter(10000000)"
   ]
  },
  {
   "cell_type": "code",
   "execution_count": null,
   "metadata": {},
   "outputs": [],
   "source": [
    "%%timeit\n",
    "mode_using_counter(10000000)"
   ]
  },
  {
   "cell_type": "code",
   "execution_count": null,
   "metadata": {},
   "outputs": [],
   "source": [
    "%%prun\n",
    "mode_using_counter(10000000)"
   ]
  },
  {
   "cell_type": "code",
   "execution_count": null,
   "metadata": {},
   "outputs": [],
   "source": [
    "%load_ext snakeviz"
   ]
  },
  {
   "cell_type": "code",
   "execution_count": null,
   "metadata": {},
   "outputs": [],
   "source": [
    "%%snakeviz\n",
    "mode_using_counter(1000000)"
   ]
  },
  {
   "cell_type": "markdown",
   "metadata": {},
   "source": [
    "`line_profiler`"
   ]
  },
  {
   "cell_type": "code",
   "execution_count": null,
   "metadata": {},
   "outputs": [],
   "source": [
    "%load_ext line_profiler"
   ]
  },
  {
   "cell_type": "code",
   "execution_count": null,
   "metadata": {},
   "outputs": [],
   "source": [
    "%lprun -f mode_using_counter mode_using_counter(10000000)"
   ]
  },
  {
   "cell_type": "markdown",
   "metadata": {},
   "source": [
    "## Time Complexity"
   ]
  },
  {
   "cell_type": "code",
   "execution_count": null,
   "metadata": {},
   "outputs": [],
   "source": [
    "def weighted_mean(list_of_numbers, weights):\n",
    "    running_total = 0\n",
    "    for i in range(len(list_of_numbers)):\n",
    "        running_total += (list_of_numbers[i] * weights[i])\n",
    "    return (running_total/sum(weights))"
   ]
  },
  {
   "cell_type": "code",
   "execution_count": null,
   "metadata": {},
   "outputs": [],
   "source": [
    "def covariance_fast(X, Y):\n",
    "    avg_X = sum(X) / len(X)\n",
    "    avg_Y = sum(Y) / len(Y)\n",
    "\n",
    "    result = 0\n",
    "    for i in range(len(X)):\n",
    "        result += (X[i] - avg_X) * (Y[i] - avg_Y)\n",
    "\n",
    "    return result / len(X)"
   ]
  },
  {
   "cell_type": "code",
   "execution_count": null,
   "metadata": {},
   "outputs": [],
   "source": [
    "X = np.random.randint(1, 1000, 1000)\n",
    "Y = np.random.randint(1, 1000, 1000)"
   ]
  },
  {
   "cell_type": "code",
   "execution_count": null,
   "metadata": {},
   "outputs": [],
   "source": [
    "%%timeit\n",
    "covariance_fast(X, Y)"
   ]
  },
  {
   "cell_type": "code",
   "execution_count": null,
   "metadata": {},
   "outputs": [],
   "source": [
    "def covariance(X, Y):\n",
    "    cov_sum = 0\n",
    "    for i in range(len(X)):\n",
    "        for j in range(len(Y)):\n",
    "            cov_sum += 0.5 * (X[i] - X[j]) * (Y[i] - Y[j])\n",
    "    return cov_sum / (len(X) ** 2)"
   ]
  },
  {
   "cell_type": "code",
   "execution_count": null,
   "metadata": {},
   "outputs": [],
   "source": [
    "%%timeit\n",
    "covariance(X, Y)"
   ]
  },
  {
   "cell_type": "markdown",
   "metadata": {},
   "source": [
    "## Code to generate Figure 2.3"
   ]
  },
  {
   "cell_type": "code",
   "execution_count": null,
   "metadata": {},
   "outputs": [],
   "source": [
    "import matplotlib.pyplot as plt\n",
    "import numpy as np"
   ]
  },
  {
   "cell_type": "code",
   "execution_count": null,
   "metadata": {},
   "outputs": [],
   "source": [
    "n = np.linspace(1, 10, 1000)\n",
    "line_names = [\n",
    "    \"Constant\",\n",
    "    \"Linear\",\n",
    "    \"Quadratic\",\n",
    "    \"Exponential\",\n",
    "    \"Logarithmic\",\n",
    "    \"N log N\",\n",
    "]\n",
    "\n",
    "colors = [\"black\", \"orange\", \"green\", \"blue\", \"red\", [0.5, 0.5, 0.5]]\n",
    "linestyles = [\"solid\", \"solid\", (0, (5, 5)), \"dotted\", \"dashdot\", (0, (5, 1))]\n",
    "big_o = [np.ones(n.shape), n, n**2, 2**n, np.log(n), n * (np.log(n))]\n",
    "\n",
    "fig, ax = plt.subplots()\n",
    "fig.set_facecolor(\"white\")\n",
    "\n",
    "ax.set_ylim(0, 50)\n",
    "ax.set_xlim(1, 10)\n",
    "for i in range(len(big_o)):\n",
    "    ax.plot(n, big_o[i], label=line_names[i], color=colors[i], linestyle=linestyles[i])\n",
    "ax.set_ylabel(\"Relative Runtime\")\n",
    "ax.set_xlabel(\"Input Size\")\n",
    "ax.legend()\n",
    "fig.savefig(\"seds_0202_v3.png\", bbox_inches=\"tight\")"
   ]
  },
  {
   "cell_type": "code",
   "execution_count": null,
   "metadata": {},
   "outputs": [],
   "source": []
  }
 ],
 "metadata": {
  "kernelspec": {
   "display_name": "Python 3",
   "language": "python",
   "name": "python3"
  },
  "language_info": {
   "codemirror_mode": {
    "name": "ipython",
    "version": 3
   },
   "file_extension": ".py",
   "mimetype": "text/x-python",
   "name": "python",
   "nbconvert_exporter": "python",
   "pygments_lexer": "ipython3",
   "version": "3.10.12"
  }
 },
 "nbformat": 4,
 "nbformat_minor": 4
}
